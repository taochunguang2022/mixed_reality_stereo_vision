{
 "cells": [
  {
   "cell_type": "code",
   "execution_count": 1,
   "id": "2a64b5d6",
   "metadata": {
    "scrolled": true
   },
   "outputs": [],
   "source": [
    "import pandas as pd"
   ]
  },
  {
   "cell_type": "code",
   "execution_count": 31,
   "id": "a58c60e2",
   "metadata": {},
   "outputs": [],
   "source": [
    "# Load the second uploaded data file to modify the 'In-hospital_death' column to 1.\n",
    "file_path_gxx = \"D:\\\\SCI\\\\TEST1.txt\"\n",
    "data_gxx = pd.read_csv(file_path_gxx)\n",
    "\n",
    "# Replace all values in 'In-hospital_death' column with 1\n",
    "data_gxx['In-hospital_death'] = 1\n",
    "\n",
    "# Save the modified data back to a new file\n",
    "modified_file_path_gxx = \"D:\\\\SCI\\\\TEST1.txt\"\n",
    "data_gxx.to_csv(modified_file_path_gxx, index=False)\n"
   ]
  },
  {
   "cell_type": "code",
   "execution_count": null,
   "id": "8b518b14",
   "metadata": {},
   "outputs": [],
   "source": []
  }
 ],
 "metadata": {
  "kernelspec": {
   "display_name": "DL",
   "language": "python",
   "name": "dl"
  },
  "language_info": {
   "codemirror_mode": {
    "name": "ipython",
    "version": 3
   },
   "file_extension": ".py",
   "mimetype": "text/x-python",
   "name": "python",
   "nbconvert_exporter": "python",
   "pygments_lexer": "ipython3",
   "version": "3.9.18"
  }
 },
 "nbformat": 4,
 "nbformat_minor": 5
}
